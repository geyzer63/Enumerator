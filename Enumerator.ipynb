{
 "cells": [
  {
   "cell_type": "markdown",
   "metadata": {
    "slideshow": {
     "slide_type": "slide"
    }
   },
   "source": [
    "# Hacking Around Enumeration\n",
    "by Mark Geyzer\n",
    "\n",
    "<mark.geyzer@gmail.com> \n"
   ]
  },
  {
   "cell_type": "markdown",
   "metadata": {
    "slideshow": {
     "slide_type": "slide"
    }
   },
   "source": [
    "## Why Did I Need It?\n",
    "Your REST request returned the response containing the following JSON"
   ]
  },
  {
   "cell_type": "code",
   "execution_count": null,
   "metadata": {
    "slideshow": {
     "slide_type": "fragment"
    }
   },
   "outputs": [],
   "source": [
    "resp = {'green': 'good',\n",
    "        'red': 'bad'} "
   ]
  },
  {
   "cell_type": "markdown",
   "metadata": {
    "slideshow": {
     "slide_type": "fragment"
    }
   },
   "source": [
    "And then you mistype the key"
   ]
  },
  {
   "cell_type": "code",
   "execution_count": null,
   "metadata": {
    "scrolled": true,
    "slideshow": {
     "slide_type": "slide"
    }
   },
   "outputs": [],
   "source": [
    "resp['gren']"
   ]
  },
  {
   "cell_type": "markdown",
   "metadata": {
    "slideshow": {
     "slide_type": "fragment"
    }
   },
   "source": [
    "And imagine have you have hundreds of possible keys"
   ]
  },
  {
   "cell_type": "markdown",
   "metadata": {
    "slideshow": {
     "slide_type": "notes"
    }
   },
   "source": [
    "On the fly - is the bug at the server side, or at your client?"
   ]
  },
  {
   "cell_type": "markdown",
   "metadata": {
    "slideshow": {
     "slide_type": "slide"
    }
   },
   "source": [
    "## My Use Case"
   ]
  },
  {
   "cell_type": "markdown",
   "metadata": {
    "slideshow": {
     "slide_type": "fragment"
    }
   },
   "source": [
    "- I was working on a project with zillion string literals."
   ]
  },
  {
   "cell_type": "markdown",
   "metadata": {
    "slideshow": {
     "slide_type": "fragment"
    }
   },
   "source": [
    "- Shame on me - I did not know about Python _enum_ then"
   ]
  },
  {
   "cell_type": "markdown",
   "metadata": {
    "slideshow": {
     "slide_type": "slide"
    }
   },
   "source": [
    "__So - I just did it__"
   ]
  },
  {
   "cell_type": "markdown",
   "metadata": {
    "slideshow": {
     "slide_type": "fragment"
    }
   },
   "source": [
    "But now that I have learned the ugly truth - _enum_ exists.... "
   ]
  },
  {
   "cell_type": "markdown",
   "metadata": {
    "slideshow": {
     "slide_type": "fragment"
    }
   },
   "source": [
    "## Why Did I Keep It?\n",
    "(Besides the fact that it's **my precious**)"
   ]
  },
  {
   "cell_type": "code",
   "execution_count": null,
   "metadata": {
    "slideshow": {
     "slide_type": "skip"
    }
   },
   "outputs": [],
   "source": [
    "import collections\n",
    "import re\n",
    "from operator import itemgetter\n",
    "\n",
    "def enum_factory_currying(value_converter=None, \n",
    "                          field_converter=str.upper, \n",
    "                          ordered=False):\n",
    "    \"\"\"\n",
    "    Wraps creation of enum-like constants container - with conversion function(s)\n",
    "    \n",
    "    :param value_converter: function to convert values - no conversion on default\n",
    "    :param field_converter: function to convert field names - uppercase on default\n",
    "    :param ordered: on True, order fields by values\n",
    "    :return: function that builds container\n",
    "    \"\"\"\n",
    "    def _tokenizer(word):\n",
    "        \"\"\"\n",
    "        \"Tokenize\" string - convert to valid Python name\n",
    "        \n",
    "        :param word: word to tokenize\n",
    "        :return: tokenised string value\n",
    "        \"\"\"\n",
    "        return field_converter(re.sub('\\W+', '_', word))\n",
    "\n",
    "    def field_by_value(self, value):\n",
    "        \"\"\"\n",
    "        Get mapper's symbolic name from value\n",
    "        \n",
    "        :param value: value to locate\n",
    "        :return: values symbolic name\n",
    "        :raises: ValueError, if value does not belong to enum\n",
    "        \"\"\"\n",
    "        field = next((k for k, v in self._asdict().items() if v == value), None)\n",
    "        if field is not None:\n",
    "            return field\n",
    "        raise ValueError(f'Undefined value \"{value}\" in enumeration')\n",
    "    \n",
    "    def value_processor(value):\n",
    "        \"\"\"\n",
    "        Processes enumerated value according to its type and value_converter\n",
    "        Allows recursive creation of JSON objects\n",
    "        \n",
    "        :param value: value to add to enum\n",
    "        :return: processed value\n",
    "        \"\"\"\n",
    "        if isinstance(value, dict):\n",
    "            if value_converter is not None:\n",
    "                return value_converter(**value)\n",
    "            return enum_factory(**value)\n",
    "        return value_converter(value) if value_converter is not None else value\n",
    "   \n",
    "    def enum_namer(l_):\n",
    "        \"\"\"\n",
    "        Generates unique name for enum object\n",
    "        \n",
    "        :param l_: list of field names\n",
    "        :return: name\n",
    "        \"\"\"\n",
    "        return '_ENUM{:x}'.format(abs(hash(tuple(l_))))\n",
    "    \n",
    "    def _enum_builder(*fields, **kw_consts):\n",
    "        \"\"\"\n",
    "        Wraps Enum creation constants, use-cases below may be mixed\n",
    "         - For list of strings - tokenized string -> string\n",
    "         - For keyword pairs - tokenized field name -> value\n",
    "\n",
    "         IMPORTANT! each string used as a field name must be tokenizable,\n",
    "                    i.e. used as source for valid Python ID,\n",
    "                    spaces and alphanumeric literals, \n",
    "                    first character - alpha or underscore\n",
    "\n",
    "        :param fields: constant strings to be wrapped\n",
    "        :param kw_consts: identifier-values pairs to be wrapped\n",
    "        :return: Enum object\n",
    "        \"\"\"\n",
    "        if kw_consts:\n",
    "            kw_pairs = sorted(kw_consts.items(), key=itemgetter(1)) if ordered \\\n",
    "                        else kw_consts.items()\n",
    "            kw_keys, kw_values = [list(s) for s in zip(*kw_pairs)]\n",
    "        else:\n",
    "            kw_keys = []\n",
    "            kw_values = []\n",
    "\n",
    "        fields = list(fields)\n",
    "        field_names = [_tokenizer(f) for f in fields + kw_keys]\n",
    "        enum_values = [value_processor(v) for v in fields + kw_values]\n",
    "        enum_factory = collections.namedtuple(enum_namer(field_names), field_names)\n",
    "        enum_factory.__call__ = field_by_value  # Reverse values by calling object\n",
    "\n",
    "        return enum_factory(*enum_values)\n",
    "\n",
    "    return _enum_builder\n",
    "\n",
    "\n",
    "# Non-currying mapper - for convenience\n",
    "enum_factory = enum_factory_currying()\n",
    "\n",
    "\n",
    "# Incremental integer mapper - for numeric sequence creation\n",
    "def sequence_factory_currying(value_converter=lambda x: x, field_converter=str.upper):\n",
    "    \"\"\"\n",
    "    Wraps convenient creation of integer enum-like sequence container\n",
    "    \n",
    "    :param value_converter: function to convert values\n",
    "    :return: function that builds container\n",
    "    \"\"\"\n",
    "    def _sequence_builder(*symbolic_names, start_value=0, step=1):\n",
    "        \"\"\"\n",
    "        Maps symbolic names to sequence of integers\n",
    "        \n",
    "        :param symbolic_names: names for mapping\n",
    "        :param start_value: initial value of sequence\n",
    "        :param step: sequence step\n",
    "        :return: enum-like symbol-2-integer mapper\n",
    "        \"\"\"\n",
    "        sequence_kwargs = dict((name, value * step) \n",
    "                               for value, name in \n",
    "                               enumerate(symbolic_names, start_value))\n",
    "        return enum_factory_currying(value_converter=value_converter, \n",
    "                                     field_converter=field_converter, \n",
    "                                     ordered=True)(**sequence_kwargs)\n",
    "    return _sequence_builder\n",
    "\n",
    "\n",
    "# Non-currying mapper - for convenience\n",
    "sequence_factory = sequence_factory_currying()\n",
    "\n",
    "\n",
    "import configparser\n",
    "def load_ini(source):\n",
    "    \"\"\"\n",
    "    Loads INI file as 2-tiered JSON object\n",
    "    \n",
    "    :param source: configurations (as a string)\n",
    "    :return: config object\n",
    "    \"\"\"\n",
    "    def convert_config_value(value):\n",
    "        \"\"\"\n",
    "        Conver configuration value to an appropriate type\n",
    "        \n",
    "        :param value: value as received from configuration file\n",
    "        :return: converted value\n",
    "        \"\"\"\n",
    "        boolean_value = {'true': True, 'false': False}.get(value.lower())\n",
    "        if boolean_value is not None:\n",
    "            return boolean_value\n",
    "        \n",
    "        for numeric_type in (int, float):\n",
    "            try:\n",
    "                converted_value = numeric_type(value)\n",
    "                return converted_value\n",
    "            except ValueError:\n",
    "                pass\n",
    "        return value\n",
    "    \n",
    "    config_obj = configparser.ConfigParser()\n",
    "    config_obj.read_string(source)\n",
    "    ini_value_converter = enum_factory_currying(value_converter=convert_config_value,\n",
    "                                                field_converter=str.lower)\n",
    "    config_loader = enum_factory_currying(value_converter=ini_value_converter)\n",
    "\n",
    "    return config_loader(**{name: dict(section) \n",
    "                            for name, section in config_obj.items()})\n",
    "\n",
    "\n",
    "import json\n",
    "def load_json(source, field_converter=str.upper):\n",
    "    \"\"\"\n",
    "    Create immutable JSON object from source string\n",
    "      \n",
    "    :param source: serialized JSON\n",
    "    :param field_converter: field names' converter\n",
    "    :return: JSON object\n",
    "    \"\"\"\n",
    "    config_object = json.loads(source)\n",
    "    return enum_factory_currying(field_converter=field_converter)(**config_object)"
   ]
  },
  {
   "cell_type": "markdown",
   "metadata": {
    "slideshow": {
     "slide_type": "slide"
    }
   },
   "source": [
    "## Quick Intro"
   ]
  },
  {
   "cell_type": "markdown",
   "metadata": {
    "slideshow": {
     "slide_type": "fragment"
    }
   },
   "source": [
    "##### Exhibit 1\n",
    "Let's enumerate the `quick brown fox`"
   ]
  },
  {
   "cell_type": "code",
   "execution_count": null,
   "metadata": {
    "slideshow": {
     "slide_type": "slide"
    }
   },
   "outputs": [],
   "source": [
    "import enum\n",
    "class Fox(enum.Enum):\n",
    "    QUICK = 'quick'\n",
    "    BROWN = 'brown'\n",
    "    FOX = 'fox'\n",
    "    ACTION = 'jumps'\n",
    "    TIMES = 8"
   ]
  },
  {
   "cell_type": "markdown",
   "metadata": {
    "slideshow": {
     "slide_type": "slide"
    }
   },
   "source": [
    "Now I have painstakingly defined an _enum_ `Fox` with 5 attributes. But what if you could do it in a shorter version?"
   ]
  },
  {
   "cell_type": "code",
   "execution_count": null,
   "metadata": {
    "slideshow": {
     "slide_type": "slide"
    }
   },
   "outputs": [],
   "source": [
    "FOX = enum_factory('quick', 'brown', 'fox', action='jumps', times=8)"
   ]
  },
  {
   "cell_type": "markdown",
   "metadata": {
    "slideshow": {
     "slide_type": "slide"
    }
   },
   "source": [
    "**What's the difference?**"
   ]
  },
  {
   "cell_type": "markdown",
   "metadata": {
    "slideshow": {
     "slide_type": "fragment"
    }
   },
   "source": [
    "- more succinct"
   ]
  },
  {
   "cell_type": "markdown",
   "metadata": {
    "slideshow": {
     "slide_type": "fragment"
    }
   },
   "source": [
    "- used a function call instead of a class creation."
   ]
  },
  {
   "cell_type": "markdown",
   "metadata": {
    "slideshow": {
     "slide_type": "fragment"
    }
   },
   "source": [
    "- positional arguments - when adding strings"
   ]
  },
  {
   "cell_type": "markdown",
   "metadata": {
    "slideshow": {
     "slide_type": "fragment"
    }
   },
   "source": [
    "- keyword arguments - when cannot use literal value as symbolic name"
   ]
  },
  {
   "cell_type": "markdown",
   "metadata": {
    "slideshow": {
     "slide_type": "slide"
    }
   },
   "source": [
    "## What else is different?"
   ]
  },
  {
   "cell_type": "code",
   "execution_count": null,
   "metadata": {
    "slideshow": {
     "slide_type": "slide"
    }
   },
   "outputs": [],
   "source": [
    "FOX.TIMES == Fox.TIMES"
   ]
  },
  {
   "cell_type": "markdown",
   "metadata": {
    "slideshow": {
     "slide_type": "fragment"
    }
   },
   "source": [
    "**Really?**"
   ]
  },
  {
   "cell_type": "code",
   "execution_count": null,
   "metadata": {
    "slideshow": {
     "slide_type": "fragment"
    }
   },
   "outputs": [],
   "source": [
    "print(*(type(v) for v in (FOX.TIMES, Fox.TIMES)))"
   ]
  },
  {
   "cell_type": "markdown",
   "metadata": {
    "slideshow": {
     "slide_type": "slide"
    }
   },
   "source": [
    "Can we compare them? Yep, with some modification"
   ]
  },
  {
   "cell_type": "code",
   "execution_count": null,
   "metadata": {
    "slideshow": {
     "slide_type": "fragment"
    }
   },
   "outputs": [],
   "source": [
    "FOX.TIMES == Fox.TIMES.value"
   ]
  },
  {
   "cell_type": "markdown",
   "metadata": {
    "slideshow": {
     "slide_type": "fragment"
    }
   },
   "source": [
    " (who wants to type extra?!)"
   ]
  },
  {
   "cell_type": "markdown",
   "metadata": {
    "slideshow": {
     "slide_type": "slide"
    }
   },
   "source": [
    "Imagine that you want to know if value 8 is in `Fox`?"
   ]
  },
  {
   "cell_type": "code",
   "execution_count": null,
   "metadata": {
    "slideshow": {
     "slide_type": "fragment"
    }
   },
   "outputs": [],
   "source": [
    "8 in Fox"
   ]
  },
  {
   "cell_type": "markdown",
   "metadata": {
    "slideshow": {
     "slide_type": "slide"
    }
   },
   "source": [
    "And what is the symbolic name of value 8? "
   ]
  },
  {
   "cell_type": "code",
   "execution_count": null,
   "metadata": {
    "slideshow": {
     "slide_type": "fragment"
    }
   },
   "outputs": [],
   "source": [
    "dir(Fox)"
   ]
  },
  {
   "cell_type": "markdown",
   "metadata": {
    "slideshow": {
     "slide_type": "slide"
    }
   },
   "source": [
    "You got the message. What about the door \\#2?"
   ]
  },
  {
   "cell_type": "code",
   "execution_count": null,
   "metadata": {
    "slideshow": {
     "slide_type": "fragment"
    }
   },
   "outputs": [],
   "source": [
    "8 in FOX"
   ]
  },
  {
   "cell_type": "code",
   "execution_count": null,
   "metadata": {
    "slideshow": {
     "slide_type": "fragment"
    }
   },
   "outputs": [],
   "source": [
    "FOX(8)"
   ]
  },
  {
   "cell_type": "markdown",
   "metadata": {
    "slideshow": {
     "slide_type": "fragment"
    }
   },
   "source": [
    "Go, _enum_ ?!\n"
   ]
  },
  {
   "cell_type": "markdown",
   "metadata": {
    "slideshow": {
     "slide_type": "slide"
    }
   },
   "source": [
    "\n",
    "##### Exhibit 2\n",
    "Let us define a pure _int_ _enum_ - both by vanilla Python and by another function from the door \\#2 (built on the base of the first)"
   ]
  },
  {
   "cell_type": "code",
   "execution_count": null,
   "metadata": {
    "scrolled": true,
    "slideshow": {
     "slide_type": "slide"
    }
   },
   "outputs": [],
   "source": [
    "class Count(enum.IntEnum):\n",
    "    ZERO = 0\n",
    "    ONE = 1\n",
    "    TWO = 2\n",
    "    THREE = 3\n",
    "    \n",
    "COUNT = sequence_factory('zero', 'one', 'two', 'three')\n",
    "print(COUNT.ONE == 1, Count.ONE == 1) "
   ]
  },
  {
   "cell_type": "markdown",
   "metadata": {
    "slideshow": {
     "slide_type": "fragment"
    }
   },
   "source": [
    "At least, comparison is better, but is not writing _enum_ a little more tedious?\n",
    "\n",
    "But before going further down the rabbit hole, some explanation."
   ]
  },
  {
   "cell_type": "markdown",
   "metadata": {
    "slideshow": {
     "slide_type": "slide"
    }
   },
   "source": [
    "### What Hides Behind The Door #2?"
   ]
  },
  {
   "cell_type": "markdown",
   "metadata": {
    "slideshow": {
     "slide_type": "fragment"
    }
   },
   "source": [
    "- Take _namedtuples_"
   ]
  },
  {
   "cell_type": "markdown",
   "metadata": {
    "slideshow": {
     "slide_type": "fragment"
    }
   },
   "source": [
    "- Wrap with a set of higher order (currying) functions, AKA Y-combinator"
   ]
  },
  {
   "cell_type": "markdown",
   "metadata": {
    "slideshow": {
     "slide_type": "fragment"
    }
   },
   "source": [
    "*enum_factory*  and *sequence_factory* are shortcuts, hiding some parameters of the underlying higher-order functions. "
   ]
  },
  {
   "cell_type": "markdown",
   "metadata": {
    "slideshow": {
     "slide_type": "fragment"
    }
   },
   "source": [
    "You can also expand shortcuts set for more specific cases."
   ]
  },
  {
   "cell_type": "markdown",
   "metadata": {
    "slideshow": {
     "slide_type": "slide"
    }
   },
   "source": [
    "## What Can You Do With It?\n",
    "You have already met that pesky `quick brown fox`"
   ]
  },
  {
   "cell_type": "code",
   "execution_count": null,
   "metadata": {
    "slideshow": {
     "slide_type": "-"
    }
   },
   "outputs": [],
   "source": [
    "print(FOX.QUICK, FOX.BROWN, FOX.FOX, FOX.ACTION, FOX.TIMES, 'times')"
   ]
  },
  {
   "cell_type": "markdown",
   "metadata": {
    "slideshow": {
     "slide_type": "slide"
    }
   },
   "source": [
    "###### and name from value"
   ]
  },
  {
   "cell_type": "code",
   "execution_count": null,
   "metadata": {
    "slideshow": {
     "slide_type": "-"
    }
   },
   "outputs": [],
   "source": [
    "FOX(8)"
   ]
  },
  {
   "cell_type": "markdown",
   "metadata": {
    "slideshow": {
     "slide_type": "fragment"
    }
   },
   "source": [
    "###### clear source of error"
   ]
  },
  {
   "cell_type": "code",
   "execution_count": null,
   "metadata": {
    "slideshow": {
     "slide_type": "-"
    }
   },
   "outputs": [],
   "source": [
    "FOX.BRON"
   ]
  },
  {
   "cell_type": "markdown",
   "metadata": {
    "slideshow": {
     "slide_type": "slide"
    }
   },
   "source": [
    "### How About JSON Objects?\n"
   ]
  },
  {
   "cell_type": "code",
   "execution_count": null,
   "metadata": {
    "slideshow": {
     "slide_type": "fragment"
    }
   },
   "outputs": [],
   "source": [
    "girl = {\n",
    "    'Is there': {'anybody': 'going', 'to listen': 'to my story'},\n",
    "    'all': {'about': 'the girl', 'who came': 'to stay'}\n",
    "}"
   ]
  },
  {
   "cell_type": "code",
   "execution_count": null,
   "metadata": {
    "slideshow": {
     "slide_type": "fragment"
    }
   },
   "outputs": [],
   "source": [
    "GIRL = enum_factory(**girl)"
   ]
  },
  {
   "cell_type": "code",
   "execution_count": null,
   "metadata": {
    "slideshow": {
     "slide_type": "fragment"
    }
   },
   "outputs": [],
   "source": [
    "GIRL.ALL.ABOUT"
   ]
  },
  {
   "cell_type": "code",
   "execution_count": null,
   "metadata": {
    "slideshow": {
     "slide_type": "fragment"
    }
   },
   "outputs": [],
   "source": [
    "GIRL.IS_THERE.ANYBODY"
   ]
  },
  {
   "cell_type": "markdown",
   "metadata": {
    "slideshow": {
     "slide_type": "slide"
    }
   },
   "source": [
    "### Throw In Some Functions\n",
    "After all, they are first class citizens"
   ]
  },
  {
   "cell_type": "code",
   "execution_count": null,
   "metadata": {
    "slideshow": {
     "slide_type": "fragment"
    }
   },
   "outputs": [],
   "source": [
    "S = enum_factory(u=str.upper, l=str.lower, t=str.title)"
   ]
  },
  {
   "cell_type": "code",
   "execution_count": null,
   "metadata": {
    "slideshow": {
     "slide_type": "fragment"
    }
   },
   "outputs": [],
   "source": [
    "S.T('what can i do')"
   ]
  },
  {
   "cell_type": "markdown",
   "metadata": {
    "slideshow": {
     "slide_type": "slide"
    }
   },
   "source": [
    "### Map and Enumerate\n",
    "You can enumerate non-scalar objects - and throw _map_ -like action in the mix.\n",
    "\n",
    "E.g., set of _pathlib.Path_ objects. And here the \"hidden\" currying form comes handy, offering value conversion on the way"
   ]
  },
  {
   "cell_type": "code",
   "execution_count": null,
   "metadata": {
    "slideshow": {
     "slide_type": "fragment"
    }
   },
   "outputs": [],
   "source": [
    "import pathlib\n",
    "PATHS = enum_factory_currying(value_converter=pathlib.Path)(scripts='/usr/bin/src', \n",
    "                                                            home='/home/user',\n",
    "                                                            data='/home/data')"
   ]
  },
  {
   "cell_type": "code",
   "execution_count": null,
   "metadata": {
    "slideshow": {
     "slide_type": "fragment"
    }
   },
   "outputs": [],
   "source": [
    "PATHS.SCRIPTS"
   ]
  },
  {
   "cell_type": "markdown",
   "metadata": {
    "slideshow": {
     "slide_type": "slide"
    }
   },
   "source": [
    "### Let's play around with some spy stuff\n"
   ]
  },
  {
   "cell_type": "code",
   "execution_count": null,
   "metadata": {
    "slideshow": {
     "slide_type": "fragment"
    }
   },
   "outputs": [],
   "source": [
    "import string, itertools\n",
    "chars = string.ascii_lowercase + string.ascii_uppercase\n",
    "def encode_word(word, offsets=(-1, 1)):\n",
    "    return ''.join(chars[(chars.index(char) + offs) % 52] \n",
    "                   for char, offs in zip(word, itertools.cycle(offsets)))\n",
    "\n",
    "SECRET = enum_factory_currying(value_converter=encode_word, field_converter=str.title)\\\n",
    "                              ('Quick', 'brown', 'fox', action='jumps')"
   ]
  },
  {
   "cell_type": "code",
   "execution_count": null,
   "metadata": {
    "slideshow": {
     "slide_type": "fragment"
    }
   },
   "outputs": [],
   "source": [
    "SECRET.Fox"
   ]
  },
  {
   "cell_type": "code",
   "execution_count": null,
   "metadata": {
    "slideshow": {
     "slide_type": "fragment"
    }
   },
   "outputs": [],
   "source": [
    "SECRET.Quick"
   ]
  },
  {
   "cell_type": "markdown",
   "metadata": {
    "slideshow": {
     "slide_type": "slide"
    }
   },
   "source": [
    "### Play Around With Sequences\n",
    "Simple sequence"
   ]
  },
  {
   "cell_type": "code",
   "execution_count": null,
   "metadata": {
    "slideshow": {
     "slide_type": "fragment"
    }
   },
   "outputs": [],
   "source": [
    "import string\n",
    "ALPHA = sequence_factory(*list(string.ascii_lowercase), start_value=1)"
   ]
  },
  {
   "cell_type": "code",
   "execution_count": null,
   "metadata": {
    "slideshow": {
     "slide_type": "fragment"
    }
   },
   "outputs": [],
   "source": [
    "ALPHA.H"
   ]
  },
  {
   "cell_type": "markdown",
   "metadata": {
    "slideshow": {
     "slide_type": "slide"
    }
   },
   "source": [
    "Sequence with a twist"
   ]
  },
  {
   "cell_type": "code",
   "execution_count": null,
   "metadata": {
    "slideshow": {
     "slide_type": "fragment"
    }
   },
   "outputs": [],
   "source": [
    "# This is the currying form\n",
    "SZ = sequence_factory_currying(value_converter=lambda v: 1024 ** v)\\\n",
    "                              ('B', 'KB', 'MB', 'GB', 'TB')"
   ]
  },
  {
   "cell_type": "code",
   "execution_count": null,
   "metadata": {
    "slideshow": {
     "slide_type": "fragment"
    }
   },
   "outputs": [],
   "source": [
    "SZ.MB"
   ]
  },
  {
   "cell_type": "code",
   "execution_count": null,
   "metadata": {
    "slideshow": {
     "slide_type": "fragment"
    }
   },
   "outputs": [],
   "source": [
    "SZ(1024)"
   ]
  },
  {
   "cell_type": "markdown",
   "metadata": {
    "slideshow": {
     "slide_type": "slide"
    }
   },
   "source": [
    "Remember I promised you goodies?"
   ]
  },
  {
   "cell_type": "markdown",
   "metadata": {
    "slideshow": {
     "slide_type": "fragment"
    }
   },
   "source": [
    "### Parse INI configurations"
   ]
  },
  {
   "cell_type": "markdown",
   "metadata": {
    "slideshow": {
     "slide_type": "fragment"
    }
   },
   "source": [
    "Ever done that? It may be annoying - if you do it on your own!"
   ]
  },
  {
   "cell_type": "markdown",
   "metadata": {
    "slideshow": {
     "slide_type": "fragment"
    }
   },
   "source": [
    "\n",
    "Well, you don't have to any more - that is wrapped for you too!"
   ]
  },
  {
   "cell_type": "code",
   "execution_count": null,
   "metadata": {
    "slideshow": {
     "slide_type": "slide"
    }
   },
   "outputs": [],
   "source": [
    "config_file = '''\n",
    "[owner]\n",
    "name = John Doe\n",
    "organization = Acme Widgets Inc.\n",
    "\n",
    "[database]\n",
    "server = 192.0.2.62     \n",
    "port= 143\n",
    "file = payroll.dat\n",
    "'''"
   ]
  },
  {
   "cell_type": "code",
   "execution_count": null,
   "metadata": {
    "slideshow": {
     "slide_type": "fragment"
    }
   },
   "outputs": [],
   "source": [
    "CFG = load_ini(config_file)"
   ]
  },
  {
   "cell_type": "code",
   "execution_count": null,
   "metadata": {
    "slideshow": {
     "slide_type": "slide"
    }
   },
   "outputs": [],
   "source": [
    "CFG.OWNER.name"
   ]
  },
  {
   "cell_type": "code",
   "execution_count": null,
   "metadata": {
    "slideshow": {
     "slide_type": "fragment"
    }
   },
   "outputs": [],
   "source": [
    "CFG.DATABASE.file"
   ]
  },
  {
   "cell_type": "markdown",
   "metadata": {
    "slideshow": {
     "slide_type": "slide"
    }
   },
   "source": [
    "## The Implementation\n",
    "It is more than one screen long, so you can take a look later.\n",
    "\n",
    "Here are the APIs"
   ]
  },
  {
   "cell_type": "markdown",
   "metadata": {
    "slideshow": {
     "slide_type": "slide"
    }
   },
   "source": [
    "### Base"
   ]
  },
  {
   "cell_type": "markdown",
   "metadata": {
    "slideshow": {
     "slide_type": "-"
    }
   },
   "source": [
    "```python\n",
    "# Currying function\n",
    "enum_factory_currying(\n",
    "    value_converter=None, field_converter=str.upper, ordered=False)\\\n",
    "    (*fields, **kw_consts)\n",
    "# Shortcut\n",
    "enum_factory(*fields, **kw_consts)  \n",
    "\n",
    "```"
   ]
  },
  {
   "cell_type": "markdown",
   "metadata": {
    "slideshow": {
     "slide_type": "slide"
    }
   },
   "source": [
    "### Sequences"
   ]
  },
  {
   "cell_type": "markdown",
   "metadata": {
    "slideshow": {
     "slide_type": "-"
    }
   },
   "source": [
    "```python\n",
    "# Currying function\n",
    "sequence_factory_currying(\n",
    "    value_converter=lambda x: x, field_converter=str.upper)\\\n",
    "    (*symbolic_names, start_value=0, step=1)\n",
    "# Shortcut\n",
    "sequence_factory(*symbolic_names, start_value=0, step=1) \n",
    "```"
   ]
  },
  {
   "cell_type": "markdown",
   "metadata": {
    "slideshow": {
     "slide_type": "slide"
    }
   },
   "source": [
    "### Expansions"
   ]
  },
  {
   "cell_type": "markdown",
   "metadata": {
    "slideshow": {
     "slide_type": "-"
    }
   },
   "source": [
    "```python\n",
    "load_ini(source)\n",
    "load_json(source, field_converter=str.upper)\n",
    "```"
   ]
  },
  {
   "cell_type": "markdown",
   "metadata": {
    "slideshow": {
     "slide_type": "slide"
    }
   },
   "source": [
    "## Summary"
   ]
  },
  {
   "cell_type": "markdown",
   "metadata": {
    "slideshow": {
     "slide_type": "slide"
    }
   },
   "source": [
    "##### Door #1\n",
    "```python\n",
    "class Colours(enum.Enum):\n",
    "    RED = 'red'\n",
    "    GREEN = 'green'\n",
    "    MAGENTA = 'purpl-ish?'\n",
    "\n",
    "class COLOURS(enum.IntEnum):\n",
    "    RED = 1\n",
    "    GREEN = 2\n",
    "```\n",
    "\n",
    "##### Door #2\n",
    "```python\n",
    "Colours = enum_factory('red', 'green', magenta='purpl-ish?')\n",
    "COLOURS = sequence_factory('red', 'green', start=1)\n",
    "```"
   ]
  },
  {
   "cell_type": "markdown",
   "metadata": {
    "slideshow": {
     "slide_type": "slide"
    }
   },
   "source": [
    "### What Do We Get Behind Door \\#2?"
   ]
  },
  {
   "cell_type": "markdown",
   "metadata": {
    "slideshow": {
     "slide_type": "fragment"
    }
   },
   "source": [
    "- Brevity"
   ]
  },
  {
   "cell_type": "markdown",
   "metadata": {
    "slideshow": {
     "slide_type": "fragment"
    }
   },
   "source": [
    "- Functional API"
   ]
  },
  {
   "cell_type": "markdown",
   "metadata": {
    "slideshow": {
     "slide_type": "fragment"
    }
   },
   "source": [
    "- A freedom to mix _\\*args_ and _\\*\\*kwargs_ as we see fit"
   ]
  },
  {
   "cell_type": "markdown",
   "metadata": {
    "slideshow": {
     "slide_type": "fragment"
    }
   },
   "source": [
    "- Easily mix values of any type - including functions"
   ]
  },
  {
   "cell_type": "markdown",
   "metadata": {
    "slideshow": {
     "slide_type": "fragment"
    }
   },
   "source": [
    "- _enum_ attributes retain their type\n",
    " - try to use native *enum* as *pandas.DataFrame* indicies!"
   ]
  },
  {
   "cell_type": "markdown",
   "metadata": {
    "slideshow": {
     "slide_type": "fragment"
    }
   },
   "source": [
    "- Customizable expansions"
   ]
  },
  {
   "cell_type": "markdown",
   "metadata": {
    "slideshow": {
     "slide_type": "slide"
    }
   },
   "source": [
    "## Q & A?\n",
    "The code can be found at https://github.com/geyzer63/Enumerator"
   ]
  }
 ],
 "metadata": {
  "celltoolbar": "Slideshow",
  "kernelspec": {
   "display_name": "Python 3",
   "language": "python",
   "name": "python3"
  },
  "language_info": {
   "codemirror_mode": {
    "name": "ipython",
    "version": 3
   },
   "file_extension": ".py",
   "mimetype": "text/x-python",
   "name": "python",
   "nbconvert_exporter": "python",
   "pygments_lexer": "ipython3",
   "version": "3.8.3"
  }
 },
 "nbformat": 4,
 "nbformat_minor": 2
}
